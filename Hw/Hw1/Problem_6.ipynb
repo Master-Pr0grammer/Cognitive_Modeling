{
 "cells": [
  {
   "cell_type": "code",
   "execution_count": null,
   "metadata": {},
   "outputs": [],
   "source": []
  },
  {
   "cell_type": "markdown",
   "metadata": {},
   "source": [
    "Story Setup: \n",
    "\t\tA piece of code has disappeared from the staging area of a large company, the management is trying to figure out who took the code out. \n",
    "\n",
    "\tLuna: The Senior Developer \n",
    "\tOrion: The Intern \n",
    "\tNova: The Project Manager \n",
    "\n",
    "Prior Distribution: The prior probabilities\n",
    "\n",
    "P(Luna): 0.3,\n",
    "\n",
    "P(Orion): 0.6,\n",
    "\n",
    "P(Nova): 0.1\n",
    "\n",
    "Likelihood: \n",
    "P(Disappeared | Luna): 0.1 (Being the senior engineer, Luna is aware of the ways to handle commits and how to prevent bad coding practices)\n",
    "\n",
    "P(Disappeared | Mike): 0.8 (The new intern, Orion doesn’t know about good managements and is not aware of how changes get made into the repository.)\n",
    "\n",
    "P(Disappeared | Nova) 0.5 (Does not have access to the repo but could have used someone else’s computer in an company compromise)\n"
   ]
  },
  {
   "cell_type": "code",
   "execution_count": 77,
   "metadata": {},
   "outputs": [],
   "source": [
    "import numpy as np"
   ]
  },
  {
   "cell_type": "code",
   "execution_count": 78,
   "metadata": {},
   "outputs": [
    {
     "data": {
      "text/plain": [
       "{'Luna-python': 0.19146,\n",
       " 'Mike-python': 0.44664,\n",
       " 'Luna-C++': 0.10819,\n",
       " 'Mike-C++': 0.25371}"
      ]
     },
     "execution_count": 78,
     "metadata": {},
     "output_type": "execute_result"
    }
   ],
   "source": [
    "def simulate_mystery(N):\n",
    "    # Simulation parameters\n",
    "\n",
    "    # Prior probabilities for each suspect\n",
    "    priors = np.array([0.3, .7])  # Probabilities for Luna, Orion, and Nova\n",
    "\n",
    "    # Likelihood of evidence given each suspect\n",
    "    code_probs = np.array([0.64, 0.36])  # Probabilities for the evidence given Luna, Orion, and Nova\n",
    "\n",
    "    # Simulate N instances\n",
    "    suspects = np.random.choice(['Luna', 'Mike'], size=N, p=priors)\n",
    "    code = np.random.choice(['Python', 'C++'], size=N, p=code_probs)\n",
    "\n",
    "    # Calculate joint probabilities through relative frequencies\n",
    "    joint_probabilities = {\n",
    "        'Luna-python': np.mean(np.logical_and(suspects == 'Luna', code == 'Python')),\n",
    "        'Mike-python': np.mean(np.logical_and(suspects == 'Mike', code == 'Python')),\n",
    "        'Luna-C++': np.mean(np.logical_and(suspects == 'Luna', code == 'C++')),\n",
    "        'Mike-C++': np.mean(np.logical_and(suspects == 'Mike', code == 'C++')),\n",
    "    }\n",
    "\n",
    "    return joint_probabilities\n",
    "\n",
    "simulate_mystery(100000)\n",
    "\n"
   ]
  },
  {
   "cell_type": "code",
   "execution_count": 79,
   "metadata": {},
   "outputs": [
    {
     "name": "stdout",
     "output_type": "stream",
     "text": [
      "{'Luna-python': 0.205, 'Mike-python': 0.435, 'Luna-C++': 0.113, 'Mike-C++': 0.247}\n"
     ]
    }
   ],
   "source": [
    "#1000 times \n",
    "print(simulate_mystery(1000))"
   ]
  },
  {
   "cell_type": "code",
   "execution_count": 80,
   "metadata": {},
   "outputs": [
    {
     "name": "stdout",
     "output_type": "stream",
     "text": [
      "{'Luna-python': 0.1848, 'Mike-python': 0.4512, 'Luna-C++': 0.1051, 'Mike-C++': 0.2589}\n"
     ]
    }
   ],
   "source": [
    "#10000 times \n",
    "print(simulate_mystery(10000))"
   ]
  },
  {
   "cell_type": "code",
   "execution_count": 81,
   "metadata": {},
   "outputs": [
    {
     "name": "stdout",
     "output_type": "stream",
     "text": [
      "{'Luna-python': 0.19363, 'Mike-python': 0.44896, 'Luna-C++': 0.10569, 'Mike-C++': 0.25172}\n"
     ]
    }
   ],
   "source": [
    "#10000 times \n",
    "print(simulate_mystery(100000))"
   ]
  },
  {
   "cell_type": "markdown",
   "metadata": {},
   "source": [
    "\n"
   ]
  }
 ],
 "metadata": {
  "kernelspec": {
   "display_name": "Python 3",
   "language": "python",
   "name": "python3"
  },
  "language_info": {
   "codemirror_mode": {
    "name": "ipython",
    "version": 3
   },
   "file_extension": ".py",
   "mimetype": "text/x-python",
   "name": "python",
   "nbconvert_exporter": "python",
   "pygments_lexer": "ipython3",
   "version": "3.8.9"
  }
 },
 "nbformat": 4,
 "nbformat_minor": 2
}
