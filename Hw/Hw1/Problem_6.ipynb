{
 "cells": [
  {
   "cell_type": "code",
   "execution_count": null,
   "metadata": {},
   "outputs": [],
   "source": []
  },
  {
   "cell_type": "markdown",
   "metadata": {},
   "source": [
    "Story Setup: \n",
    "\t\tA piece of code has disappeared from the staging area of a large company, the management is trying to figure out who took the code out. \n",
    "\n",
    "\tLuna: The Senior Developer \n",
    "\tOrion: The Intern \n",
    "\tNova: The Project Manager \n",
    "\n",
    "Prior Distribution: The prior probabilities\n",
    "\n",
    "P(Luna): 0.3,\n",
    "\n",
    "P(Orion): 0.6,\n",
    "\n",
    "P(Nova): 0.1\n",
    "\n",
    "Likelihood: \n",
    "P(Disappeared | Luna): 0.1 (Being the senior engineer, Luna is aware of the ways to handle commits and how to prevent bad coding practices)\n",
    "\n",
    "P(Disappeared | Mike): 0.8 (The new intern, Orion doesn’t know about good managements and is not aware of how changes get made into the repository.)\n",
    "\n",
    "P(Disappeared | Nova) 0.5 (Does not have access to the repo but could have used someone else’s computer in an company compromise)\n"
   ]
  },
  {
   "cell_type": "code",
   "execution_count": 57,
   "metadata": {},
   "outputs": [],
   "source": [
    "import numpy as np"
   ]
  },
  {
   "cell_type": "code",
   "execution_count": 58,
   "metadata": {},
   "outputs": [],
   "source": [
    "def simulate_mystery(N):\n",
    "    # Simulation parameters\n",
    "\n",
    "    # Prior probabilities for each suspect\n",
    "    priors = np.array([0.3, 0.6, 0.1])  # Probabilities for Luna, Orion, and Nova\n",
    "\n",
    "    # Likelihood of evidence given each suspect\n",
    "    likelihoods = np.array([0.1, 0.8, 0.5])  # Probabilities for the evidence given Luna, Orion, and Nova\n",
    "\n",
    "    # Simulate N instances\n",
    "    suspects = np.random.choice(['Luna', 'Orion', 'Nova'], size=N, p=priors)\n",
    "    evidence = np.random.rand(N)\n",
    "\n",
    "    # Determine which simulations align with the evidence likelihood\n",
    "    evidence_present = np.zeros(N)\n",
    "    evidence_present[suspects == 'Luna'] = evidence[suspects == 'Luna'] < 0.1\n",
    "    evidence_present[suspects == 'Orion'] = evidence[suspects == 'Orion'] < 0.8\n",
    "    evidence_present[suspects == 'Nova'] = evidence[suspects == 'Nova'] < 0.5\n",
    "\n",
    "    # Calculate joint probabilities through relative frequencies\n",
    "    joint_probabilities = {\n",
    "        'Luna': np.mean(evidence_present[suspects == 'Luna']),\n",
    "        'Orion': np.mean(evidence_present[suspects == 'Orion']),\n",
    "        'Nova': np.mean(evidence_present[suspects == 'Nova'])\n",
    "    }\n",
    "\n",
    "    return joint_probabilities\n",
    "\n"
   ]
  },
  {
   "cell_type": "code",
   "execution_count": 59,
   "metadata": {},
   "outputs": [
    {
     "name": "stdout",
     "output_type": "stream",
     "text": [
      "{'Luna': 0.09177215189873418, 'Orion': 0.810580204778157, 'Nova': 0.5408163265306123}\n"
     ]
    }
   ],
   "source": [
    "#1000 times \n",
    "print(simulate_mystery(1000))"
   ]
  },
  {
   "cell_type": "code",
   "execution_count": 60,
   "metadata": {},
   "outputs": [
    {
     "name": "stdout",
     "output_type": "stream",
     "text": [
      "{'Luna': 0.08949550794747754, 'Orion': 0.7988872524955, 'Nova': 0.4793969849246231}\n"
     ]
    }
   ],
   "source": [
    "#10000 times \n",
    "print(simulate_mystery(10000))"
   ]
  },
  {
   "cell_type": "code",
   "execution_count": 61,
   "metadata": {},
   "outputs": [
    {
     "name": "stdout",
     "output_type": "stream",
     "text": [
      "{'Luna': 0.10131445904954499, 'Orion': 0.7984464025440572, 'Nova': 0.5070323488045007}\n"
     ]
    }
   ],
   "source": [
    "#10000 times \n",
    "print(simulate_mystery(100000))"
   ]
  },
  {
   "cell_type": "markdown",
   "metadata": {},
   "source": [
    "\n"
   ]
  }
 ],
 "metadata": {
  "kernelspec": {
   "display_name": "Python 3",
   "language": "python",
   "name": "python3"
  },
  "language_info": {
   "codemirror_mode": {
    "name": "ipython",
    "version": 3
   },
   "file_extension": ".py",
   "mimetype": "text/x-python",
   "name": "python",
   "nbconvert_exporter": "python",
   "pygments_lexer": "ipython3",
   "version": "3.8.9"
  }
 },
 "nbformat": 4,
 "nbformat_minor": 2
}
