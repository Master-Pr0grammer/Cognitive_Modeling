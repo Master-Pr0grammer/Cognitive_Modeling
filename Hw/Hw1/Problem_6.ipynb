{
 "cells": [
  {
   "cell_type": "code",
   "execution_count": null,
   "metadata": {},
   "outputs": [],
   "source": []
  },
  {
   "cell_type": "markdown",
   "metadata": {},
   "source": [
    "Story Setup: \n",
    "\t\tA piece of code has disappeared from the staging area of a large company, the management is trying to figure out who took the code out. \n",
    "\n",
    "\tLuna: The Senior Developer \n",
    "\tOrion: The Intern \n",
    "\tNova: The Project Manager \n",
    "\n",
    "Prior Distribution: The prior probabilities\n",
    "\n",
    "P(Luna): 0.3,\n",
    "\n",
    "P(Orion): 0.6,\n",
    "\n",
    "P(Nova): 0.1\n",
    "\n",
    "Likelihood: \n",
    "P(Disappeared | Luna): 0.1 (Being the senior engineer, Luna is aware of the ways to handle commits and how to prevent bad coding practices)\n",
    "\n",
    "P(Disappeared | Mike): 0.8 (The new intern, Orion doesn’t know about good managements and is not aware of how changes get made into the repository.)\n",
    "\n",
    "P(Disappeared | Nova) 0.5 (Does not have access to the repo but could have used someone else’s computer in an company compromise)\n"
   ]
  },
  {
   "cell_type": "code",
   "execution_count": 1,
   "metadata": {},
   "outputs": [],
   "source": [
    "import numpy as np"
   ]
  },
  {
   "cell_type": "code",
   "execution_count": 67,
   "metadata": {},
   "outputs": [
    {
     "data": {
      "text/plain": [
       "{'Luna-python': 0.1919135,\n",
       " 'Mike-python': 0.4481847,\n",
       " 'Luna-C++': 0.107936,\n",
       " 'Mike-C++': 0.2519658}"
      ]
     },
     "execution_count": 67,
     "metadata": {},
     "output_type": "execute_result"
    }
   ],
   "source": [
    "def simulate_mystery(N):\n",
    "    # Simulation parameters\n",
    "\n",
    "    # Prior probabilities for each suspect\n",
    "    priors = np.array([0.3, .7])  # Probabilities for Luna, Orion, and Nova\n",
    "\n",
    "    # Likelihood of evidence given each suspect\n",
    "    code_probs = np.array([0.64, 0.36])  # Probabilities for the evidence given Luna, Orion, and Nova\n",
    "\n",
    "    # Simulate N instances\n",
    "    suspects = np.random.choice(['Luna', 'Mike'], size=N, p=priors)\n",
    "    code = np.random.choice(['Python', 'C++'], size=N, p=code_probs)\n",
    "\n",
    "    # Calculate joint probabilities through relative frequencies\n",
    "    joint_probabilities = {\n",
    "        'Luna-python': np.mean(np.logical_and(suspects == 'Luna', code == 'Python')),\n",
    "        'Mike-python': np.mean(np.logical_and(suspects == 'Mike', code == 'Python')),\n",
    "        'Luna-C++': np.mean(np.logical_and(suspects == 'Luna', code == 'C++')),\n",
    "        'Mike-C++': np.mean(np.logical_and(suspects == 'Mike', code == 'C++')),\n",
    "    }\n",
    "\n",
    "    return joint_probabilities\n",
    "\n",
    "simulate_mystery(10000000)\n",
    "\n"
   ]
  },
  {
   "cell_type": "code",
   "execution_count": 50,
   "metadata": {},
   "outputs": [
    {
     "name": "stdout",
     "output_type": "stream",
     "text": [
      "{'Luna': 0.17142857142857143, 'Mike': 0.8305555555555556}\n"
     ]
    }
   ],
   "source": [
    "#1000 times \n",
    "print(simulate_mystery(1000))"
   ]
  },
  {
   "cell_type": "code",
   "execution_count": 51,
   "metadata": {},
   "outputs": [
    {
     "name": "stdout",
     "output_type": "stream",
     "text": [
      "{'Luna': 0.1639881928501148, 'Mike': 0.8482232772262984}\n"
     ]
    }
   ],
   "source": [
    "#10000 times \n",
    "print(simulate_mystery(10000))"
   ]
  },
  {
   "cell_type": "code",
   "execution_count": 52,
   "metadata": {},
   "outputs": [
    {
     "name": "stdout",
     "output_type": "stream",
     "text": [
      "{'Luna': 0.155143508583691, 'Mike': 0.8485094619243047}\n"
     ]
    }
   ],
   "source": [
    "#10000 times \n",
    "print(simulate_mystery(100000))"
   ]
  },
  {
   "cell_type": "markdown",
   "metadata": {},
   "source": [
    "\n"
   ]
  }
 ],
 "metadata": {
  "kernelspec": {
   "display_name": "Python 3",
   "language": "python",
   "name": "python3"
  },
  "language_info": {
   "codemirror_mode": {
    "name": "ipython",
    "version": 3
   },
   "file_extension": ".py",
   "mimetype": "text/x-python",
   "name": "python",
   "nbconvert_exporter": "python",
   "pygments_lexer": "ipython3",
   "version": "3.11.5"
  }
 },
 "nbformat": 4,
 "nbformat_minor": 2
}
