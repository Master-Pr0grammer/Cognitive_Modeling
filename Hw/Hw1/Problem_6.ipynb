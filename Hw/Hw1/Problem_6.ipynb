{
 "cells": [
  {
   "cell_type": "code",
   "execution_count": null,
   "metadata": {},
   "outputs": [],
   "source": []
  },
  {
   "cell_type": "markdown",
   "metadata": {},
   "source": [
    "Story Setup: \n",
    "\t\tA piece of code has disappeared from the staging area of a large company, the management is trying to figure out who took the code out. \n",
    "\n",
    "\tLuna: The Senior Developer \n",
    "\tOrion: The Intern \n",
    "\tNova: The Project Manager \n",
    "\n",
    "Prior Distribution: The prior probabilities\n",
    "\n",
    "P(Luna): 0.3,\n",
    "\n",
    "P(Orion): 0.6,\n",
    "\n",
    "P(Nova): 0.1\n",
    "\n",
    "Likelihood: \n",
    "P(Disappeared | Luna): 0.1 (Being the senior engineer, Luna is aware of the ways to handle commits and how to prevent bad coding practices)\n",
    "\n",
    "P(Disappeared | Mike): 0.8 (The new intern, Orion doesn’t know about good managements and is not aware of how changes get made into the repository.)\n",
    "\n",
    "P(Disappeared | Nova) 0.5 (Does not have access to the repo but could have used someone else’s computer in an company compromise)\n"
   ]
  },
  {
   "cell_type": "code",
   "execution_count": 1,
   "metadata": {},
   "outputs": [],
   "source": [
    "import numpy as np"
   ]
  },
  {
   "cell_type": "code",
   "execution_count": 47,
   "metadata": {},
   "outputs": [
    {
     "data": {
      "text/plain": [
       "{'Luna': 0.15015915970874225,\n",
       " 'Mike': 0.7999540360945376,\n",
       " 'Ethan': 0.7998407021129512}"
      ]
     },
     "execution_count": 47,
     "metadata": {},
     "output_type": "execute_result"
    }
   ],
   "source": [
    "def simulate_mystery(N):\n",
    "    # Simulation parameters\n",
    "\n",
    "    # Prior probabilities for each suspect\n",
    "    priors = np.array([0.3, .7])  # Probabilities for Luna, Orion, and Nova\n",
    "\n",
    "    # Likelihood of evidence given each suspect\n",
    "    likelihoods = np.array([0.15, 0.85])  # Probabilities for the evidence given Luna, Orion, and Nova\n",
    "\n",
    "    # Simulate N instances\n",
    "    suspects = np.random.choice(['Luna', 'Mike'], size=N, p=priors)\n",
    "    evidence = np.random.rand(N)\n",
    "\n",
    "    # Determine which simulations align with the evidence likelihood\n",
    "    evidence_present = np.zeros(N)\n",
    "    evidence_present[suspects == 'Luna'] = evidence[suspects == 'Luna'] < likelihoods[0]\n",
    "    evidence_present[suspects == 'Mike'] = evidence[suspects == 'Mike'] < likelihoods[1]\n",
    "\n",
    "    # Calculate joint probabilities through relative frequencies\n",
    "    joint_probabilities = {\n",
    "        'Luna': np.mean(evidence_present[suspects == 'Luna']),\n",
    "        'Mike': np.mean(evidence_present[suspects == 'Mike']),\n",
    "    }\n",
    "\n",
    "    return joint_probabilities\n",
    "\n",
    "simulate_mystery(10000000)\n",
    "\n"
   ]
  },
  {
   "cell_type": "code",
   "execution_count": 27,
   "metadata": {},
   "outputs": [
    {
     "name": "stdout",
     "output_type": "stream",
     "text": [
      "[1 1 0 0 1 1 1 1 1 1]\n"
     ]
    },
    {
     "ename": "NameError",
     "evalue": "name 'stats' is not defined",
     "output_type": "error",
     "traceback": [
      "\u001b[0;31m---------------------------------------------------------------------------\u001b[0m",
      "\u001b[0;31mNameError\u001b[0m                                 Traceback (most recent call last)",
      "\u001b[1;32m/Users/ethanmccartney/Desktop/Cognitive_Modeling/Hw/Hw1/Problem_6.ipynb Cell 6\u001b[0m line \u001b[0;36m1\n\u001b[1;32m     <a href='vscode-notebook-cell:/Users/ethanmccartney/Desktop/Cognitive_Modeling/Hw/Hw1/Problem_6.ipynb#X11sZmlsZQ%3D%3D?line=10'>11</a>\u001b[0m     probabilities \u001b[39m=\u001b[39m likelihoods[person_index]\n\u001b[1;32m     <a href='vscode-notebook-cell:/Users/ethanmccartney/Desktop/Cognitive_Modeling/Hw/Hw1/Problem_6.ipynb#X11sZmlsZQ%3D%3D?line=13'>14</a>\u001b[0m     \u001b[39mreturn\u001b[39;00m stats\n\u001b[0;32m---> <a href='vscode-notebook-cell:/Users/ethanmccartney/Desktop/Cognitive_Modeling/Hw/Hw1/Problem_6.ipynb#X11sZmlsZQ%3D%3D?line=15'>16</a>\u001b[0m simulate_mystery(\u001b[39m10\u001b[39m)\n",
      "\u001b[1;32m/Users/ethanmccartney/Desktop/Cognitive_Modeling/Hw/Hw1/Problem_6.ipynb Cell 6\u001b[0m line \u001b[0;36m1\n\u001b[1;32m     <a href='vscode-notebook-cell:/Users/ethanmccartney/Desktop/Cognitive_Modeling/Hw/Hw1/Problem_6.ipynb#X11sZmlsZQ%3D%3D?line=9'>10</a>\u001b[0m \u001b[39mprint\u001b[39m(person_index)\n\u001b[1;32m     <a href='vscode-notebook-cell:/Users/ethanmccartney/Desktop/Cognitive_Modeling/Hw/Hw1/Problem_6.ipynb#X11sZmlsZQ%3D%3D?line=10'>11</a>\u001b[0m probabilities \u001b[39m=\u001b[39m likelihoods[person_index]\n\u001b[0;32m---> <a href='vscode-notebook-cell:/Users/ethanmccartney/Desktop/Cognitive_Modeling/Hw/Hw1/Problem_6.ipynb#X11sZmlsZQ%3D%3D?line=13'>14</a>\u001b[0m \u001b[39mreturn\u001b[39;00m stats\n",
      "\u001b[0;31mNameError\u001b[0m: name 'stats' is not defined"
     ]
    }
   ],
   "source": [
    "def simulate_mystery(N):\n",
    "    # Simulation parameters\n",
    "\n",
    "    # Prior probabilities for each suspect\n",
    "    priors = np.array([0.3, 0.7])  # Probabilities for Luna, Mike\n",
    "    likelihoods = np.array([0.15, 0.85])  # Probabilities for the evidence given Luna, mike\n",
    "\n",
    "\n",
    "    suspects = np.random.choice(['Luna', 'Mike'], size=N, p=priors)\n",
    "    evidence = np.random.rand(N) < priors[0]*likelihoods[0] + priors[1]*likelihoods[1]\n",
    "    probabilities = likelihoods[person_index]\n",
    "    \n",
    "\n",
    "    return stats\n",
    "\n",
    "simulate_mystery(10)\n",
    "\n"
   ]
  },
  {
   "cell_type": "code",
   "execution_count": 3,
   "metadata": {},
   "outputs": [
    {
     "name": "stdout",
     "output_type": "stream",
     "text": [
      "{'Luna': 0.14715719063545152, 'Orion': 0.8345221112696148}\n"
     ]
    }
   ],
   "source": [
    "#1000 times \n",
    "print(simulate_mystery(1000))"
   ]
  },
  {
   "cell_type": "code",
   "execution_count": 4,
   "metadata": {},
   "outputs": [
    {
     "name": "stdout",
     "output_type": "stream",
     "text": [
      "{'Luna': 0.15039397053785544, 'Orion': 0.8488913995198418}\n"
     ]
    }
   ],
   "source": [
    "#10000 times \n",
    "print(simulate_mystery(10000))"
   ]
  },
  {
   "cell_type": "code",
   "execution_count": 5,
   "metadata": {},
   "outputs": [
    {
     "name": "stdout",
     "output_type": "stream",
     "text": [
      "{'Luna': 0.1469601885978019, 'Orion': 0.8504786571841506}\n"
     ]
    }
   ],
   "source": [
    "#10000 times \n",
    "print(simulate_mystery(100000))"
   ]
  },
  {
   "cell_type": "markdown",
   "metadata": {},
   "source": [
    "\n"
   ]
  }
 ],
 "metadata": {
  "kernelspec": {
   "display_name": "Python 3",
   "language": "python",
   "name": "python3"
  },
  "language_info": {
   "codemirror_mode": {
    "name": "ipython",
    "version": 3
   },
   "file_extension": ".py",
   "mimetype": "text/x-python",
   "name": "python",
   "nbconvert_exporter": "python",
   "pygments_lexer": "ipython3",
   "version": "3.11.5"
  }
 },
 "nbformat": 4,
 "nbformat_minor": 2
}
