{
 "cells": [
  {
   "cell_type": "code",
   "execution_count": 1,
   "metadata": {},
   "outputs": [
    {
     "name": "stdout",
     "output_type": "stream",
     "text": [
      "Test Point: [1 1]\n",
      "Spherical Gaussian:\n",
      "Custom Function: 0.05854983152431917\n",
      "SciPy's Function: 0.05854983152431917\n",
      "Diagonal Gaussian:\n",
      "Custom Function: 0.04283398421754656\n",
      "SciPy's Function: 0.04283398421754657\n",
      "Full-covariance Gaussian:\n",
      "Custom Function: 0.05827418831846451\n",
      "SciPy's Function: 0.05827418831846453\n",
      "\n",
      "Test Point: [2 2]\n",
      "Spherical Gaussian:\n",
      "Custom Function: 0.0029150244650281935\n",
      "SciPy's Function: 0.002915024465028194\n",
      "Diagonal Gaussian:\n",
      "Custom Function: 0.012272141946960767\n",
      "SciPy's Function: 0.012272141946960769\n",
      "Full-covariance Gaussian:\n",
      "Custom Function: 0.052728666096220705\n",
      "SciPy's Function: 0.05272866609622072\n",
      "\n",
      "Test Point: [0 0]\n",
      "Spherical Gaussian:\n",
      "Custom Function: 0.15915494309189535\n",
      "SciPy's Function: 0.15915494309189535\n",
      "Diagonal Gaussian:\n",
      "Custom Function: 0.06497473343613967\n",
      "SciPy's Function: 0.0649747334361397\n",
      "Full-covariance Gaussian:\n",
      "Custom Function: 0.03534508188501651\n",
      "SciPy's Function: 0.03534508188501653\n",
      "\n"
     ]
    }
   ],
   "source": [
    "import numpy as np\n",
    "from scipy.stats import multivariate_normal\n",
    "\n",
    "# Custom function for multivariate normal density\n",
    "def multivariate_normal_density(x, mu, Sigma):\n",
    "    D = len(x)\n",
    "    assert len(mu) == D, \"Dimensions of x and mu must match\"\n",
    "    assert Sigma.shape == (D, D), \"Sigma must be a D×D matrix\"\n",
    "    \n",
    "    normalization = 1 / np.sqrt((2 * np.pi) ** D * np.linalg.det(Sigma))\n",
    "    exponent = -0.5 * np.dot(np.dot((x - mu).T, np.linalg.inv(Sigma)), (x - mu))\n",
    "    density = normalization * np.exp(exponent)\n",
    "    \n",
    "    return density\n",
    "\n",
    "# Parameters for the spherical Gaussian\n",
    "mu_spherical = np.array([0, 0])\n",
    "Sigma_spherical = np.eye(2)  # Identity covariance matrix\n",
    "\n",
    "# Parameters for the diagonal Gaussian\n",
    "mu_diagonal = np.array([0, 0])\n",
    "Sigma_diagonal = np.array([[2, 0],\n",
    "                           [0, 3]])  # Diagonal covariance matrix\n",
    "\n",
    "# Parameters for the full-covariance Gaussian\n",
    "mu_full = np.array([1, 2])\n",
    "Sigma_full = np.array([[2, 1],\n",
    "                       [1, 3]])  # Arbitrary covariance matrix\n",
    "\n",
    "# Test points\n",
    "test_points = [np.array([1, 1]), np.array([2, 2]), np.array([0, 0])]\n",
    "\n",
    "# Compare custom function with scipy's multivariate_normal for each parameterization\n",
    "for point in test_points:\n",
    "    print(\"Test Point:\", point)\n",
    "    print(\"Spherical Gaussian:\")\n",
    "    print(\"Custom Function:\", multivariate_normal_density(point, mu_spherical, Sigma_spherical))\n",
    "    print(\"SciPy's Function:\", multivariate_normal.pdf(point, mean=mu_spherical, cov=Sigma_spherical))\n",
    "    \n",
    "    print(\"Diagonal Gaussian:\")\n",
    "    print(\"Custom Function:\", multivariate_normal_density(point, mu_diagonal, Sigma_diagonal))\n",
    "    print(\"SciPy's Function:\", multivariate_normal.pdf(point, mean=mu_diagonal, cov=Sigma_diagonal))\n",
    "    \n",
    "    print(\"Full-covariance Gaussian:\")\n",
    "    print(\"Custom Function:\", multivariate_normal_density(point, mu_full, Sigma_full))\n",
    "    print(\"SciPy's Function:\", multivariate_normal.pdf(point, mean=mu_full, cov=Sigma_full))\n",
    "    print()\n"
   ]
  },
  {
   "cell_type": "code",
   "execution_count": null,
   "metadata": {},
   "outputs": [],
   "source": []
  }
 ],
 "metadata": {
  "kernelspec": {
   "display_name": "base",
   "language": "python",
   "name": "python3"
  },
  "language_info": {
   "codemirror_mode": {
    "name": "ipython",
    "version": 3
   },
   "file_extension": ".py",
   "mimetype": "text/x-python",
   "name": "python",
   "nbconvert_exporter": "python",
   "pygments_lexer": "ipython3",
   "version": "3.11.5"
  },
  "orig_nbformat": 4
 },
 "nbformat": 4,
 "nbformat_minor": 2
}
