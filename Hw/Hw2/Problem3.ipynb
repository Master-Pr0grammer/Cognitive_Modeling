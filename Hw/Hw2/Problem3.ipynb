{
 "cells": [
  {
   "cell_type": "code",
   "execution_count": null,
   "metadata": {},
   "outputs": [],
   "source": [
    "import numpy as np\n",
    "from math import *\n",
    "import numba\n",
    "import random\n",
    "\n",
    "import matplotlib.pyplot as plt"
   ]
  },
  {
   "cell_type": "code",
   "execution_count": null,
   "metadata": {},
   "outputs": [],
   "source": [
    "def LCA(num_alternatives, k, v, beta, a, start_time, max_time, dt=1e-3, sigma = 1.0):\n",
    "\n",
    "\ttime = start_time\n",
    "\n",
    "\ty = [0] * num_alternatives\n",
    "\ty_data = []\n",
    "\tfor i in range(num_alternatives):\n",
    "\t\ty_data.append([0])\n",
    "\n",
    "\twhile time < max_time:\n",
    "\n",
    "\t\tfor i in range(num_alternatives):\n",
    "\t\t\t#get I\n",
    "\t\t\tI = beta * (sum(y)-y[i])\n",
    "\n",
    "\t\t\tz = np.random.normal(loc=0, scale=sigma)\n",
    "\t\t\ty[i] += (v[i] - I - k*y[i])*dt + sigma * (np.sqrt(dt)*z)\n",
    "\t\t\ty[i] = max(y[i], 0)\n",
    "\n",
    "\t\t\ty_data[i].append(y[i])\n",
    "\n",
    "\t\t\t#update time\n",
    "\t\t\ttime += dt\n",
    "\n",
    "\n",
    "\t\t#exit loop if decision boundry met\n",
    "\t\tif max(y)>=a:\n",
    "\t\t\treturn np.array(y_data), y.index(max(y))\n",
    "\t\t\t\n",
    "\t#return if no decision made\n",
    "\treturn np.array(y_data), -1"
   ]
  },
  {
   "cell_type": "code",
   "execution_count": null,
   "metadata": {},
   "outputs": [],
   "source": [
    "def FFI(J:int, v:np.ndarray, a:float, alpha:float, x0:np.ndarray, tau:float = 0.0, scale:float = 1.0):\n",
    "\t\"\"\"\n",
    "\tJ: Number of alternatives\n",
    "\tv: drift rates of all alternatives\n",
    "\ta: threshold parameter\n",
    "\talpha: strength of feedforward inhibition\n",
    "\tx0: starting points for all alternatives\n",
    "\n",
    "\ttau = 0.0: starting time (non-decision time)\n",
    "\tscale = 1.0: sigma, or scale coefficient\n",
    "\t\"\"\"\n",
    "\ttime = start_time\n",
    "\n",
    "\ty = [0] * num_alternatives\n",
    "\ty_data = []\n",
    "\tfor i in range(num_alternatives):\n",
    "\t\ty_data.append([0])\n",
    "\n",
    "\twhile time < max_time:\n",
    "\n",
    "\t\tfor i in range(num_alternatives):\n",
    "\t\t\t#get I\n",
    "\t\t\tI = beta * (sum(y)-y[i])\n",
    "\n",
    "\t\t\tz = np.random.normal(loc=0, scale=sigma)\n",
    "\t\t\ty[i] += (v[i] - I - k*y[i])*dt + sigma * (np.sqrt(dt)*z)\n",
    "\t\t\ty[i] = max(y[i], 0)\n",
    "\n",
    "\t\t\ty_data[i].append(y[i])\n",
    "\n",
    "\t\t\t#update time\n",
    "\t\t\ttime += dt\n",
    "\n",
    "\n",
    "\t\t#exit loop if decision boundry met\n",
    "\t\tif max(y)>=a:\n",
    "\t\t\treturn np.array(y_data), y.index(max(y))\n",
    "\t\t\t\n",
    "\t#return if no decision made\n",
    "\treturn np.array(y_data), -1"
   ]
  }
 ],
 "metadata": {
  "kernelspec": {
   "display_name": "base",
   "language": "python",
   "name": "python3"
  },
  "language_info": {
   "name": "python",
   "version": "3.11.0"
  },
  "orig_nbformat": 4
 },
 "nbformat": 4,
 "nbformat_minor": 2
}
