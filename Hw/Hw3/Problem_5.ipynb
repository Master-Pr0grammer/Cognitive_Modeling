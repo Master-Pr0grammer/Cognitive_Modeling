{
 "cells": [
  {
   "cell_type": "code",
   "execution_count": 16,
   "metadata": {},
   "outputs": [],
   "source": [
    "import numpy as np\n",
    "import matplotlib.pyplot as plt\n",
    "import seaborn as sns\n",
    "import pandas as pd\n",
    "import csv\n",
    "\n",
    "import stan\n",
    "import arviz as az\n",
    "\n",
    "import nest_asyncio\n",
    "nest_asyncio.apply()"
   ]
  },
  {
   "cell_type": "code",
   "execution_count": 17,
   "metadata": {},
   "outputs": [
    {
     "name": "stdout",
     "output_type": "stream",
     "text": [
      "['age', 'sex', 'bmi', 'children', 'smoker', 'region', 'charges']\n",
      "(1338, 6)\n",
      "(1338,)\n"
     ]
    }
   ],
   "source": [
    "file = open('insurance.csv', 'r')\n",
    "reader = csv.reader(file)\n",
    "data = []\n",
    "\n",
    "for row in reader:\n",
    "\tdata.append(row)\n",
    "print(data.pop(0))\n",
    "data = np.array(data)\n",
    "\n",
    "data[:, 1][data[:, 1] == 'male'] = 0\n",
    "data[:, 1][data[:, 1] == 'female'] = 1\n",
    "data[:, 4][data[:, 4] == 'no'] = 0\n",
    "data[:, 4][data[:, 4] == 'yes'] = 1\n",
    "data[:, 5][data[:, 5] == 'northeast'] = 0\n",
    "data[:, 5][data[:, 5] == 'northwest'] = 1\n",
    "data[:, 5][data[:, 5] == 'southeast'] = 2\n",
    "data[:, 5][data[:, 5] == 'southwest'] = 3\n",
    "data = data.astype(np.float64)\n",
    "\n",
    "#normalize data\n",
    "for i in range(len(data[0])):\n",
    "\tstd = np.std(data[:,i])\n",
    "\tdata[:,i] = data[:,i] - np.mean(data[:,i])\n",
    "\tdata[:,i] = data[:,i]/std\n",
    "\n",
    "x_data = data[:, :6]#.reshape((len(data), 6, 1))\n",
    "y_data = data[:, 6]\n",
    "print(x_data.shape)\n",
    "print(y_data.shape)"
   ]
  },
  {
   "cell_type": "code",
   "execution_count": 18,
   "metadata": {},
   "outputs": [],
   "source": [
    "# N = len(data)\n",
    "# alpha = 2.3\n",
    "# sigma = 2.\n",
    "# slope = 4.\n",
    "# x = np.random.normal (size=N)\n",
    "# y = alpha + slope * x + sigma * np.random.normal(size=N)\n",
    "\n",
    "data = {\n",
    "\t'N': len(data),\n",
    "\t'K': len(x_data[0]),\n",
    "    'x': x_data,\n",
    "    'y': y_data\n",
    "}"
   ]
  },
  {
   "cell_type": "code",
   "execution_count": 19,
   "metadata": {},
   "outputs": [],
   "source": [
    "program_code = \"\"\"\n",
    "data {\n",
    "  int<lower=1> N;           // Number of samples\n",
    "  int<lower=1> K;           // Number of predictors\n",
    "  matrix[N, K] x;              // Covariate\n",
    "  vector[N] y;              // Outcome\n",
    "}\n",
    "\n",
    "parameters {\n",
    "  real alpha;               // Intercept\n",
    "  row_vector[K] beta;       // Slope\n",
    "  real<lower=0> sigma;      // Noise\n",
    "}\n",
    "\n",
    "model {\n",
    "  // Priors\n",
    "  sigma ~ inv_gamma(1, 1);     //tau0 = 1, tau1 = 1\n",
    "  alpha ~ normal(0, 10);       //sigma_alhpa = 10\n",
    "  beta ~ multi_normal(rep_vector(0, K), diag_matrix(rep_vector(10, K)));  //sigma_beta = 10\n",
    "\n",
    "  // Likelihood\n",
    "  for (n in 2:N)\n",
    "    y[n] ~ normal(alpha + beta * x[n]', sigma);\n",
    "}\n",
    "\"\"\""
   ]
  },
  {
   "cell_type": "code",
   "execution_count": 20,
   "metadata": {},
   "outputs": [
    {
     "name": "stdout",
     "output_type": "stream",
     "text": [
      "Building...\n"
     ]
    },
    {
     "name": "stderr",
     "output_type": "stream",
     "text": [
      "Building: Semantic error:   -------------------------------------------------\n",
      "    17:    sigma ~ inv_gamma(1, 1);     //tau0 = 1, tau1 = 1\n",
      "    18:    alpha ~ normal(0, 10);       //sigma_alhpa = 10\n",
      "    19:    beta ~ multi_normal(0, 10);  //sigma_beta = 10\n",
      "           ^\n",
      "    20:  \n",
      "    21:    // Likelihood\n",
      "   -------------------------------------------------\n",
      "\n",
      "Ill-typed arguments supplied to function 'multi_normal':\n",
      "(real, int, int)\n",
      "Available signatures:\n",
      "(vector, array[] row_vector, matrix) => real\n",
      "  The first argument must be vector but got real\n",
      "(vector, row_vector, matrix) => real\n",
      "  The first argument must be vector but got real\n",
      "(vector, array[] vector, matrix) => real\n",
      "  The first argument must be vector but got real\n",
      "(vector, vector, matrix) => real\n",
      "  The first argument must be vector but got real\n",
      "(row_vector, array[] row_vector, matrix) => real\n",
      "  The first argument must be row_vector but got real\n",
      "(Additional signatures omitted)"
     ]
    },
    {
     "ename": "ValueError",
     "evalue": "Semantic error",
     "output_type": "error",
     "traceback": [
      "\u001b[0;31m---------------------------------------------------------------------------\u001b[0m",
      "\u001b[0;31mValueError\u001b[0m                                Traceback (most recent call last)",
      "Cell \u001b[0;32mIn[20], line 1\u001b[0m\n\u001b[0;32m----> 1\u001b[0m model \u001b[38;5;241m=\u001b[39m stan\u001b[38;5;241m.\u001b[39mbuild(program_code,data)\n\u001b[1;32m      2\u001b[0m fit \u001b[38;5;241m=\u001b[39m model\u001b[38;5;241m.\u001b[39msample(num_chains\u001b[38;5;241m=\u001b[39m\u001b[38;5;241m3\u001b[39m,num_warmup\u001b[38;5;241m=\u001b[39m\u001b[38;5;241m1000\u001b[39m,num_samples\u001b[38;5;241m=\u001b[39m\u001b[38;5;241m2500\u001b[39m)\n",
      "File \u001b[0;32m/opt/anaconda3/lib/python3.11/site-packages/stan/model.py:519\u001b[0m, in \u001b[0;36mbuild\u001b[0;34m(program_code, data, random_seed)\u001b[0m\n\u001b[1;32m    516\u001b[0m         \u001b[38;5;28;01mreturn\u001b[39;00m Model(model_name, program_code, data, param_names, constrained_param_names, dims, random_seed)\n\u001b[1;32m    518\u001b[0m \u001b[38;5;28;01mtry\u001b[39;00m:\n\u001b[0;32m--> 519\u001b[0m     \u001b[38;5;28;01mreturn\u001b[39;00m asyncio\u001b[38;5;241m.\u001b[39mrun(go())\n\u001b[1;32m    520\u001b[0m \u001b[38;5;28;01mexcept\u001b[39;00m \u001b[38;5;167;01mKeyboardInterrupt\u001b[39;00m:\n\u001b[1;32m    521\u001b[0m     \u001b[38;5;28;01mreturn\u001b[39;00m\n",
      "File \u001b[0;32m/opt/anaconda3/lib/python3.11/site-packages/nest_asyncio.py:30\u001b[0m, in \u001b[0;36m_patch_asyncio.<locals>.run\u001b[0;34m(main, debug)\u001b[0m\n\u001b[1;32m     28\u001b[0m task \u001b[38;5;241m=\u001b[39m asyncio\u001b[38;5;241m.\u001b[39mensure_future(main)\n\u001b[1;32m     29\u001b[0m \u001b[38;5;28;01mtry\u001b[39;00m:\n\u001b[0;32m---> 30\u001b[0m     \u001b[38;5;28;01mreturn\u001b[39;00m loop\u001b[38;5;241m.\u001b[39mrun_until_complete(task)\n\u001b[1;32m     31\u001b[0m \u001b[38;5;28;01mfinally\u001b[39;00m:\n\u001b[1;32m     32\u001b[0m     \u001b[38;5;28;01mif\u001b[39;00m \u001b[38;5;129;01mnot\u001b[39;00m task\u001b[38;5;241m.\u001b[39mdone():\n",
      "File \u001b[0;32m/opt/anaconda3/lib/python3.11/site-packages/nest_asyncio.py:98\u001b[0m, in \u001b[0;36m_patch_loop.<locals>.run_until_complete\u001b[0;34m(self, future)\u001b[0m\n\u001b[1;32m     95\u001b[0m \u001b[38;5;28;01mif\u001b[39;00m \u001b[38;5;129;01mnot\u001b[39;00m f\u001b[38;5;241m.\u001b[39mdone():\n\u001b[1;32m     96\u001b[0m     \u001b[38;5;28;01mraise\u001b[39;00m \u001b[38;5;167;01mRuntimeError\u001b[39;00m(\n\u001b[1;32m     97\u001b[0m         \u001b[38;5;124m'\u001b[39m\u001b[38;5;124mEvent loop stopped before Future completed.\u001b[39m\u001b[38;5;124m'\u001b[39m)\n\u001b[0;32m---> 98\u001b[0m \u001b[38;5;28;01mreturn\u001b[39;00m f\u001b[38;5;241m.\u001b[39mresult()\n",
      "File \u001b[0;32m/opt/anaconda3/lib/python3.11/asyncio/futures.py:203\u001b[0m, in \u001b[0;36mFuture.result\u001b[0;34m(self)\u001b[0m\n\u001b[1;32m    201\u001b[0m \u001b[38;5;28mself\u001b[39m\u001b[38;5;241m.\u001b[39m__log_traceback \u001b[38;5;241m=\u001b[39m \u001b[38;5;28;01mFalse\u001b[39;00m\n\u001b[1;32m    202\u001b[0m \u001b[38;5;28;01mif\u001b[39;00m \u001b[38;5;28mself\u001b[39m\u001b[38;5;241m.\u001b[39m_exception \u001b[38;5;129;01mis\u001b[39;00m \u001b[38;5;129;01mnot\u001b[39;00m \u001b[38;5;28;01mNone\u001b[39;00m:\n\u001b[0;32m--> 203\u001b[0m     \u001b[38;5;28;01mraise\u001b[39;00m \u001b[38;5;28mself\u001b[39m\u001b[38;5;241m.\u001b[39m_exception\u001b[38;5;241m.\u001b[39mwith_traceback(\u001b[38;5;28mself\u001b[39m\u001b[38;5;241m.\u001b[39m_exception_tb)\n\u001b[1;32m    204\u001b[0m \u001b[38;5;28;01mreturn\u001b[39;00m \u001b[38;5;28mself\u001b[39m\u001b[38;5;241m.\u001b[39m_result\n",
      "File \u001b[0;32m/opt/anaconda3/lib/python3.11/asyncio/tasks.py:267\u001b[0m, in \u001b[0;36mTask.__step\u001b[0;34m(***failed resolving arguments***)\u001b[0m\n\u001b[1;32m    263\u001b[0m \u001b[38;5;28;01mtry\u001b[39;00m:\n\u001b[1;32m    264\u001b[0m     \u001b[38;5;28;01mif\u001b[39;00m exc \u001b[38;5;129;01mis\u001b[39;00m \u001b[38;5;28;01mNone\u001b[39;00m:\n\u001b[1;32m    265\u001b[0m         \u001b[38;5;66;03m# We use the `send` method directly, because coroutines\u001b[39;00m\n\u001b[1;32m    266\u001b[0m         \u001b[38;5;66;03m# don't have `__iter__` and `__next__` methods.\u001b[39;00m\n\u001b[0;32m--> 267\u001b[0m         result \u001b[38;5;241m=\u001b[39m coro\u001b[38;5;241m.\u001b[39msend(\u001b[38;5;28;01mNone\u001b[39;00m)\n\u001b[1;32m    268\u001b[0m     \u001b[38;5;28;01melse\u001b[39;00m:\n\u001b[1;32m    269\u001b[0m         result \u001b[38;5;241m=\u001b[39m coro\u001b[38;5;241m.\u001b[39mthrow(exc)\n",
      "File \u001b[0;32m/opt/anaconda3/lib/python3.11/site-packages/stan/model.py:496\u001b[0m, in \u001b[0;36mbuild.<locals>.go\u001b[0;34m()\u001b[0m\n\u001b[1;32m    494\u001b[0m     building_output\u001b[38;5;241m.\u001b[39mwrite_line(\u001b[38;5;124mf\u001b[39m\u001b[38;5;124m\"\u001b[39m\u001b[38;5;124m<info>Building:</info> <error>\u001b[39m\u001b[38;5;132;01m{\u001b[39;00merror_type\u001b[38;5;132;01m}\u001b[39;00m\u001b[38;5;124m:</error>\u001b[39m\u001b[38;5;124m\"\u001b[39m)\n\u001b[1;32m    495\u001b[0m     building_output\u001b[38;5;241m.\u001b[39mwrite_line(\u001b[38;5;124mf\u001b[39m\u001b[38;5;124m\"\u001b[39m\u001b[38;5;124m<error>\u001b[39m\u001b[38;5;132;01m{\u001b[39;00mexception_body_without_first_line\u001b[38;5;132;01m}\u001b[39;00m\u001b[38;5;124m</error>\u001b[39m\u001b[38;5;124m\"\u001b[39m)\n\u001b[0;32m--> 496\u001b[0m     \u001b[38;5;28;01mraise\u001b[39;00m \u001b[38;5;167;01mValueError\u001b[39;00m(error_type)\n\u001b[1;32m    497\u001b[0m \u001b[38;5;28;01melse\u001b[39;00m:\n\u001b[1;32m    498\u001b[0m     \u001b[38;5;28;01mraise\u001b[39;00m \u001b[38;5;167;01mRuntimeError\u001b[39;00m(exception_body)\n",
      "\u001b[0;31mValueError\u001b[0m: Semantic error"
     ]
    }
   ],
   "source": [
    "model = stan.build(program_code,data)\n",
    "fit = model.sample(num_chains=3,num_warmup=1000,num_samples=2500)"
   ]
  },
  {
   "cell_type": "code",
   "execution_count": null,
   "metadata": {},
   "outputs": [],
   "source": [
    "df = fit.to_frame()\n",
    "df.head()"
   ]
  },
  {
   "cell_type": "code",
   "execution_count": null,
   "metadata": {},
   "outputs": [],
   "source": [
    "az.summary(fit)"
   ]
  },
  {
   "cell_type": "code",
   "execution_count": null,
   "metadata": {},
   "outputs": [],
   "source": [
    "f = az.plot_trace(fit, compact=False, legend=True)\n",
    "plt.tight_layout()"
   ]
  }
 ],
 "metadata": {
  "kernelspec": {
   "display_name": "base",
   "language": "python",
   "name": "python3"
  },
  "language_info": {
   "codemirror_mode": {
    "name": "ipython",
    "version": 3
   },
   "file_extension": ".py",
   "mimetype": "text/x-python",
   "name": "python",
   "nbconvert_exporter": "python",
   "pygments_lexer": "ipython3",
   "version": "3.11.0"
  },
  "orig_nbformat": 4
 },
 "nbformat": 4,
 "nbformat_minor": 2
}
