{
 "cells": [
  {
   "cell_type": "code",
   "execution_count": 1,
   "metadata": {},
   "outputs": [],
   "source": [
    "import numpy as np\n",
    "import matplotlib.pyplot as plt\n",
    "import seaborn as sns\n",
    "import pandas as pd\n",
    "import csv\n",
    "\n",
    "import stan\n",
    "import arviz as az\n",
    "\n",
    "import nest_asyncio\n",
    "nest_asyncio.apply()"
   ]
  },
  {
   "cell_type": "code",
   "execution_count": 17,
   "metadata": {},
   "outputs": [
    {
     "name": "stdout",
     "output_type": "stream",
     "text": [
      "['age', 'sex', 'bmi', 'children', 'smoker', 'region', 'charges']\n",
      "(1338, 6, 1)\n",
      "(1338,)\n"
     ]
    }
   ],
   "source": [
    "file = open('insurance.csv', 'r')\n",
    "reader = csv.reader(file)\n",
    "data = []\n",
    "\n",
    "for row in reader:\n",
    "\tdata.append(row)\n",
    "print(data.pop(0))\n",
    "data = np.array(data)\n",
    "\n",
    "data[:, 1][data[:, 1] == 'male'] = 0\n",
    "data[:, 1][data[:, 1] == 'female'] = 1\n",
    "data[:, 4][data[:, 4] == 'no'] = 0\n",
    "data[:, 4][data[:, 4] == 'yes'] = 1\n",
    "data[:, 5][data[:, 5] == 'northeast'] = 0\n",
    "data[:, 5][data[:, 5] == 'northwest'] = 1\n",
    "data[:, 5][data[:, 5] == 'southeast'] = 2\n",
    "data[:, 5][data[:, 5] == 'southwest'] = 3\n",
    "data = data.astype(np.float64)\n",
    "\n",
    "#normalize data\n",
    "for i in range(len(data[0])):\n",
    "\tstd = np.std(data[:,i])\n",
    "\tdata[:,i] = data[:,i] - np.mean(data[:,i])\n",
    "\tdata[:,i] = data[:,i]/std\n",
    "\n",
    "x_data = data[:, :6].reshape((len(data), 6, 1))\n",
    "y_data = data[:, 6]\n",
    "print(x_data.shape)\n",
    "print(y_data.shape)"
   ]
  },
  {
   "cell_type": "code",
   "execution_count": null,
   "metadata": {},
   "outputs": [],
   "source": [
    "N = len(data)\n",
    "alpha = 2.3\n",
    "# sigma = 2.\n",
    "# slope = 4.\n",
    "# x = np.random.normal (size=N)\n",
    "# y = alpha + slope * x + sigma * np.random.normal(size=N)\n",
    "\n",
    "data = {\n",
    "    'x':x_data,\n",
    "    'N':N,\n",
    "    'y':y_data\n",
    "}"
   ]
  },
  {
   "cell_type": "code",
   "execution_count": null,
   "metadata": {},
   "outputs": [],
   "source": [
    "program_code = \"\"\"\n",
    "data {\n",
    "  int<lower=1> N;           // Number of observations\n",
    "  vector[N] x;              // Covariate\n",
    "  vector[N] y;              // Outcome\n",
    "}\n",
    "\n",
    "parameters {\n",
    "  real alpha;               // Intercept\n",
    "  real beta;                // Slope\n",
    "  real<lower=0> sigma;      // Noise\n",
    "}\n",
    "\n",
    "model {\n",
    "  // Priors\n",
    "  sigma ~ inv_gamma(1, 1);     //tau0 = 1, tau1 = 1\n",
    "  alpha ~ normal(0, 10);       //sigma_alhpa = 10\n",
    "  beta ~ multi_normal(0, 10);  //sigma_beta = 10\n",
    "\n",
    "  // Likelihood\n",
    "  for (n in 2:N)\n",
    "    y[n] ~ normal(alpha + beta * x[n], sigma);\n",
    "}\n",
    "\"\"\""
   ]
  },
  {
   "cell_type": "code",
   "execution_count": null,
   "metadata": {},
   "outputs": [],
   "source": [
    "model = stan.build(program_code,data)\n",
    "fit = model.sample(num_chains=3,num_warmup=1000,num_samples=2500)"
   ]
  },
  {
   "cell_type": "code",
   "execution_count": null,
   "metadata": {},
   "outputs": [],
   "source": [
    "df = fit.to_frame()\n",
    "df.head()"
   ]
  },
  {
   "cell_type": "code",
   "execution_count": null,
   "metadata": {},
   "outputs": [],
   "source": [
    "az.summary(fit)"
   ]
  },
  {
   "cell_type": "code",
   "execution_count": null,
   "metadata": {},
   "outputs": [],
   "source": [
    "f = az.plot_trace(fit, compact=False, legend=True)\n",
    "plt.tight_layout()"
   ]
  }
 ],
 "metadata": {
  "kernelspec": {
   "display_name": "base",
   "language": "python",
   "name": "python3"
  },
  "language_info": {
   "codemirror_mode": {
    "name": "ipython",
    "version": 3
   },
   "file_extension": ".py",
   "mimetype": "text/x-python",
   "name": "python",
   "nbconvert_exporter": "python",
   "pygments_lexer": "ipython3",
   "version": "3.11.0"
  },
  "orig_nbformat": 4
 },
 "nbformat": 4,
 "nbformat_minor": 2
}
