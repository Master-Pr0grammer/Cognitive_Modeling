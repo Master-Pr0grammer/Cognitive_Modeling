{
 "cells": [
  {
   "cell_type": "markdown",
   "id": "22e19884",
   "metadata": {},
   "source": [
    "# The Zen of Python\n",
    "\n",
    "* Beautiful is better than ugly.\n",
    "* Explicit is better than implicit.\n",
    "* Simple is better than complex.\n",
    "* Complex is better than complicated.\n",
    "* Flat is better than nested.\n",
    "* Sparse is better than dense.\n",
    "* Readability counts.\n",
    "* Special cases aren't special enough to break the rules.\n",
    "* Although practicality beats purity.\n",
    "* Errors should never pass silently.\n",
    "* Unless explicitly silenced.\n",
    "* In the face of ambiguity, refuse the temptation to guess.\n",
    "* There should be one-- and preferably only one --obvious way to do it.\n",
    "* Although that way may not be obvious at first unless you're Dutch.\n",
    "* Now is better than never.\n",
    "* Although never is often better than *right* now.\n",
    "* If the implementation is hard to explain, it's a bad idea.\n",
    "* If the implementation is easy to explain, it may be a good idea.\n",
    "* Namespaces are one honking great idea -- let's do more of those!\n",
    "\n",
    "(from https://peps.python.org/pep-0020/)"
   ]
  },
  {
   "cell_type": "markdown",
   "id": "ad0fa945",
   "metadata": {},
   "source": []
  },
  {
   "cell_type": "markdown",
   "id": "b5bc35df",
   "metadata": {},
   "source": [
    "# Quick Recap: Data Structures"
   ]
  },
  {
   "cell_type": "code",
   "execution_count": null,
   "id": "d9b10a31",
   "metadata": {},
   "outputs": [],
   "source": [
    "# Lists, tuples, dictionaries\n",
    "\n"
   ]
  },
  {
   "cell_type": "markdown",
   "id": "c4c09bdb",
   "metadata": {},
   "source": [
    "# Quick Recap: Looping"
   ]
  },
  {
   "cell_type": "code",
   "execution_count": null,
   "id": "ac093963",
   "metadata": {},
   "outputs": [],
   "source": [
    "# The Pythonic way (enumerate, zip)\n",
    "\n"
   ]
  },
  {
   "cell_type": "markdown",
   "id": "2b4d9600",
   "metadata": {},
   "source": [
    "## Quick Recap: Classes and Functions"
   ]
  },
  {
   "cell_type": "code",
   "execution_count": 1,
   "id": "3e7e7828",
   "metadata": {},
   "outputs": [],
   "source": [
    "def add_data(data, name, age):\n",
    "    # Some validators\n",
    "    assert isinstance(age, (int, float)) and age > 0\n",
    "    assert isinstance(name, str)\n",
    "\n",
    "    # Add new data to list\n",
    "    data.append({'name': name, 'age': age})\n",
    "    return data\n",
    "\n",
    "# Initialize a list of dictionaries\n",
    "people = [{'name': 'John', 'age': 20}, {'name': 'Jane', 'age': 22}]\n",
    "\n",
    "\n",
    "\n"
   ]
  },
  {
   "cell_type": "code",
   "execution_count": null,
   "id": "05bfe643",
   "metadata": {},
   "outputs": [],
   "source": []
  },
  {
   "cell_type": "code",
   "execution_count": null,
   "id": "050d046b",
   "metadata": {},
   "outputs": [],
   "source": []
  },
  {
   "cell_type": "markdown",
   "id": "1185447f",
   "metadata": {},
   "source": []
  },
  {
   "cell_type": "markdown",
   "id": "05de1ad7",
   "metadata": {},
   "source": [
    "# Exercise: Infectious Disease Modeling"
   ]
  },
  {
   "cell_type": "markdown",
   "id": "65b107ba",
   "metadata": {},
   "source": [
    "<p>In this exercise, you will explore and implement a popular epidemiological model of infectuous disease outbreaks.</p>\n",
    "\n",
    "<p>In particular, we will look at the SEIR model, which is an instance of the compartmental model family:</p>\n",
    "\n",
    "![SEIR](https://docs.idmod.org/projects/emod-hiv/en/latest/_images/SEIR-SEIRS.png)\n",
    "\n",
    "<p>Compartmental models partition a population into discrete subgroups. In the case of the SEIR model, the groups are:</p>\n",
    "<br>\n",
    "1. S - Susceptible: People who can become infected<br>\n",
    "2. E - Exposed: People who have been exposed to the virus<br>\n",
    "3. I - Infected: People who have been infected by the virus<br>\n",
    "4. R - Recovered: People who have recovered from the virus <br>\n",
    "\n",
    "Needless to say, there are numerous extentions of this basic model, but it is useful for simulations and (even policy making!). The discrete-time SEIR model is given by the following set of difference equations:\n",
    "$$\\begin{align}\n",
    "S_t &= S_{t-1} -(\\beta S_{t-1} I_{t-1})/N \\\\\n",
    "E_t &= E_{t-1} + (\\beta S_{t-1} I_{t-1})/N - \\sigma E_{t-1} \\\\\n",
    "I_t &= I_{t-1} + \\sigma E_{t-1} - \\gamma I_{t-1} \\\\\n",
    "R_t &= R_{t-1} + \\gamma I_{t-1}\n",
    "\\end{align}$$\n",
    "\n",
    "which govern the interactions between the compartments. In the continuous case, the model would be specified by a set of ordinary differential equations (ODEs). The dynamics of the process model are controled by three parameters:\n",
    "\n",
    "1. $\\beta$ - the average contact rate in the population\n",
    "2. $\\sigma$ - the inverse of the incubation period (1 / days_incubation)\n",
    "3. $\\gamma$ - the inverse of the mean infectuous period (1 / days_infectuous)\n",
    "\n",
    "Thus, we can compute the basic reproduction number $R_0$ as\n",
    "$$ R_0 = \\frac{\\beta}{\\gamma}$$\n",
    "\n",
    "The goal of this exercise is to implement the discrete-time SEIR model as a function which takes an input the initial conditions and a vector of parameters and returns the four timeseries of S, E, I, and R people.\n",
    "Once your code works, create a separate module and commit it to a repository."
   ]
  },
  {
   "cell_type": "code",
   "execution_count": 2,
   "id": "31314936",
   "metadata": {},
   "outputs": [],
   "source": [
    "import matplotlib.pyplot as plt\n",
    "from numba import njit\n",
    "\n",
    "\n",
    "def plot_results(infected):\n",
    "    \"\"\"Plots the time series of infected cases.\"\"\"\n",
    "    \n",
    "    fig, ax = plt.subplots(1, 1, figsize=(10, 6))\n",
    "    ax.plot(infected, color='#AA0000', linestyle='dashed', marker='o')\n",
    "    ax.set_xlabel('Day', fontsize=16)\n",
    "    ax.set_ylabel('Number of Infected Cases', fontsize=16)\n",
    "    ax.set_title('Simulated Oubreak', fontsize=20)\n",
    "    ax.grid(alpha=0.2)\n",
    "    return fig"
   ]
  },
  {
   "cell_type": "code",
   "execution_count": 6,
   "id": "3d75333e",
   "metadata": {},
   "outputs": [],
   "source": [
    "@njit\n",
    "def simulate_seir(parameters, init_conditions, days=51):\n",
    "    \"\"\"TODO\"\"\"\n",
    "\n",
    "    ### Your code here\n",
    "    beta, sigma, gamma = parameters\n",
    "\n",
    "    s_t = [init_conditions[0]]\n",
    "    e_t = [init_conditions[1]]\n",
    "    i_t = [init_conditions[2]]\n",
    "    r_t = [init_conditions[3]]\n",
    "\n",
    "    n = s_t[0] + e_t[0] + i_t[0] + r_t[0]\n",
    "\n",
    "    for i in range(days):\n",
    "        s_t.append(s_t[i] - (beta * s_t[i] * i_t[i])/n)\n",
    "        e_t.append(e_t[i] + (beta * s_t[i] * i_t[i])/n - sigma * e_t[i])\n",
    "        i_t.append(i_t[i] + sigma * e_t[i] - gamma * i_t[i])\n",
    "        r_t.append(r_t[i] + gamma * i_t[i])\n",
    "\n",
    "    return s_t, e_t, i_t, r_t\n",
    "    "
   ]
  },
  {
   "cell_type": "code",
   "execution_count": 9,
   "id": "1563e602",
   "metadata": {},
   "outputs": [
    {
     "data": {
      "image/png": "[encoded data removed]",
      "text/plain": [
       "<Figure size 1000x600 with 1 Axes>"
      ]
     },
     "metadata": {},
     "output_type": "display_data"
    }
   ],
   "source": [
    "# beta, sigma, gamma\n",
    "parameters = (3, 0.1, 0.5)\n",
    "\n",
    "# S0, E0, I0, R0\n",
    "inits = (9999., 1., 0., 0.)\n",
    "\n",
    "### Your code here\n",
    "sim = simulate_seir(parameters, inits, 100)\n",
    "\n",
    "### Expected result\n",
    "f = plot_results(sim[2])"
   ]
  },
  {
   "cell_type": "markdown",
   "id": "3a2f61cd",
   "metadata": {},
   "source": []
  },
  {
   "cell_type": "code",
   "execution_count": 8,
   "id": "836f7b35",
   "metadata": {},
   "outputs": [
    {
     "name": "stdout",
     "output_type": "stream",
     "text": [
      "5.81 µs ± 51.4 ns per loop (mean ± std. dev. of 7 runs, 100,000 loops each)\n"
     ]
    }
   ],
   "source": [
    "%timeit simulate_seir(parameters, inits, 100)"
   ]
  }
 ],
 "metadata": {
  "kernelspec": {
   "display_name": "Python 3",
   "language": "python",
   "name": "python3"
  },
  "language_info": {
   "codemirror_mode": {
    "name": "ipython",
    "version": 3
   },
   "file_extension": ".py",
   "mimetype": "text/x-python",
   "name": "python",
   "nbconvert_exporter": "python",
   "pygments_lexer": "ipython3",
   "version": "3.11.5"
  },
  "toc": {
   "base_numbering": 1,
   "nav_menu": {},
   "number_sections": true,
   "sideBar": true,
   "skip_h1_title": false,
   "title_cell": "Table of Contents",
   "title_sidebar": "Contents",
   "toc_cell": false,
   "toc_position": {
    "height": "calc(100% - 180px)",
    "left": "10px",
    "top": "150px",
    "width": "165px"
   },
   "toc_section_display": true,
   "toc_window_display": true
  }
 },
 "nbformat": 4,
 "nbformat_minor": 5
}
