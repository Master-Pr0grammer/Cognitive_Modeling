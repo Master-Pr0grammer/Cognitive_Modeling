{
 "cells": [
  {
   "cell_type": "code",
   "execution_count": 20,
   "metadata": {},
   "outputs": [],
   "source": [
    "import numpy as np"
   ]
  },
  {
   "cell_type": "code",
   "execution_count": 21,
   "metadata": {},
   "outputs": [],
   "source": [
    "def random_walks_no_loop(T=200, sigma = 1.0):\n",
    "    '''\n",
    "    Parameters: \n",
    "    T:Time horzon \n",
    "    sigma: the scale of variance \n",
    "    '''\n",
    "    return np.cumsum(np.random.normal(loc = 0., scale=sigma, size = T))\n"
   ]
  },
  {
   "cell_type": "code",
   "execution_count": 22,
   "metadata": {},
   "outputs": [],
   "source": [
    "def random_walks(T=1000, sigma = 1.0):\n",
    "    '''\n",
    "    Parameters: \n",
    "    T:Time horzon \n",
    "    sigma: the scale of variance \n",
    "    '''\n",
    "    x = np.zeros(shape = T)\n",
    "\n",
    "    for t in range(1, T): \n",
    "        x[t] = x[t-1] + np.random.normal(loc=0., scale=sigma)\n",
    "\n",
    "    \n",
    "    return x \n",
    "        "
   ]
  },
  {
   "cell_type": "code",
   "execution_count": 23,
   "metadata": {},
   "outputs": [],
   "source": [
    "def euler_mauryama(v, a, beta, tau, dt= 0.001, scale = 0):\n",
    "\n",
    "    '''\n",
    "    Simulates one realization of the difusion process given a set of parameters \n",
    "\n",
    "    Parameters: \n",
    "\n",
    "    v: The drift rate\n",
    "\n",
    "    a: the boundary separation  \n",
    "\n",
    "    beta: the relative starting process\n",
    "\n",
    "    t:  non-decision time\n",
    "    '''\n",
    "    # inits \n",
    "    y = beta * a \n",
    "    num_steps = tau\n",
    "\n",
    "\n",
    "    #loop through process and check boundary conditions\n",
    "    while( y <= a and y >=0 ):\n",
    "        # perform diffusion equation\n",
    "        z = np.random.randn()\n",
    "        y+= v * dt + np.sqrt(dt) * scale * z\n",
    "\n",
    "        #increment step_counter\n",
    "        num_steps+= dt\n",
    "    \n",
    "    if y >= a:\n",
    "        c = 1\n",
    "    else:\n",
    "        c = 0\n",
    "    \n",
    "    return num_steps, c\n",
    "\n",
    "\n",
    "\n"
   ]
  },
  {
   "cell_type": "code",
   "execution_count": 24,
   "metadata": {},
   "outputs": [
    {
     "data": {
      "text/plain": [
       "(1.700999999999923, 1)"
      ]
     },
     "execution_count": 24,
     "metadata": {},
     "output_type": "execute_result"
    }
   ],
   "source": [
    "params = {\"v\" : .5, \"a\" : 1, \"beta\" : .5, \"tau\":0.7}\n",
    "\n",
    "euler_mauryama(**params)\n",
    "\n"
   ]
  }
 ],
 "metadata": {
  "kernelspec": {
   "display_name": "Python 3",
   "language": "python",
   "name": "python3"
  },
  "language_info": {
   "codemirror_mode": {
    "name": "ipython",
    "version": 3
   },
   "file_extension": ".py",
   "mimetype": "text/x-python",
   "name": "python",
   "nbconvert_exporter": "python",
   "pygments_lexer": "ipython3",
   "version": "3.8.9"
  }
 },
 "nbformat": 4,
 "nbformat_minor": 2
}
