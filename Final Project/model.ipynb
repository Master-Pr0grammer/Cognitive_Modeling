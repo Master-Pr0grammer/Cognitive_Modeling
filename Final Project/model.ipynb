{
 "cells": [
  {
   "cell_type": "code",
   "execution_count": 17,
   "metadata": {},
   "outputs": [
    {
     "ename": "ModuleNotFoundError",
     "evalue": "No module named 'tensorflow_probability'",
     "output_type": "error",
     "traceback": [
      "\u001b[0;31m---------------------------------------------------------------------------\u001b[0m",
      "\u001b[0;31mModuleNotFoundError\u001b[0m                       Traceback (most recent call last)",
      "Cell \u001b[0;32mIn[17], line 4\u001b[0m\n\u001b[1;32m      2\u001b[0m \u001b[38;5;28;01mfrom\u001b[39;00m \u001b[38;5;21;01mtensorflow\u001b[39;00m\u001b[38;5;21;01m.\u001b[39;00m\u001b[38;5;21;01mkeras\u001b[39;00m\u001b[38;5;21;01m.\u001b[39;00m\u001b[38;5;21;01mlayers\u001b[39;00m \u001b[38;5;28;01mimport\u001b[39;00m Layer\n\u001b[1;32m      3\u001b[0m \u001b[38;5;28;01mimport\u001b[39;00m \u001b[38;5;21;01mnumpy\u001b[39;00m \u001b[38;5;28;01mas\u001b[39;00m \u001b[38;5;21;01mnp\u001b[39;00m\n\u001b[0;32m----> 4\u001b[0m \u001b[38;5;28;01mimport\u001b[39;00m \u001b[38;5;21;01mtensorflow_probability\u001b[39;00m \u001b[38;5;28;01mas\u001b[39;00m \u001b[38;5;21;01mtfp\u001b[39;00m  \u001b[38;5;66;03m# Import TensorFlow Probability\u001b[39;00m\n\u001b[1;32m      6\u001b[0m \u001b[38;5;28;01mdef\u001b[39;00m \u001b[38;5;21mgaussian_kernel\u001b[39m(size: \u001b[38;5;28mint\u001b[39m, mean: \u001b[38;5;28mfloat\u001b[39m, std: \u001b[38;5;28mfloat\u001b[39m):\n\u001b[1;32m      7\u001b[0m \u001b[38;5;250m    \u001b[39m\u001b[38;5;124;03m\"\"\"Creates a Gaussian kernel for convolution.\"\"\"\u001b[39;00m\n",
      "\u001b[0;31mModuleNotFoundError\u001b[0m: No module named 'tensorflow_probability'"
     ]
    }
   ],
   "source": [
    "import tensorflow as tf\n",
    "from tensorflow.keras.layers import Layer\n",
    "import numpy as np\n",
    "import tensorflow_probability as tfp  # Import TensorFlow Probability\n",
    "\n",
    "def gaussian_kernel(size: int, mean: float, std: float):\n",
    "    \"\"\"Creates a Gaussian kernel for convolution.\"\"\"\n",
    "    d = tfp.distributions.Normal(mean, std)  # Use tfp.distributions instead of tf.distributions\n",
    "    vals = d.prob(tf.range(start=-size, limit=size+1, dtype=tf.float32))\n",
    "    gauss_kernel = tf.einsum('i,j->ij',\n",
    "                             vals,\n",
    "                             vals)\n",
    "    return gauss_kernel / tf.reduce_sum(gauss_kernel)\n",
    "\n",
    "def apply_gaussian_blur(image):\n",
    "    \"\"\"Applies Gaussian blur to an image.\"\"\"\n",
    "    kernel_size = 5\n",
    "    sigma = 1.0\n",
    "    channels = image.shape[-1]\n",
    "    kernel = gaussian_kernel(kernel_size, 0.0, sigma)\n",
    "    kernel = kernel[:, :, tf.newaxis, tf.newaxis]\n",
    "    kernel = tf.tile(kernel, [1, 1, channels, 1])\n",
    "    return tf.nn.depthwise_conv2d(image[tf.newaxis, ...],\n",
    "                                  kernel,\n",
    "                                  strides=[1, 1, 1, 1],\n",
    "                                  padding='SAME')[0]"
   ]
  },
  {
   "cell_type": "code",
   "execution_count": 13,
   "metadata": {},
   "outputs": [
    {
     "ename": "AttributeError",
     "evalue": "module 'tensorflow' has no attribute 'distributions'",
     "output_type": "error",
     "traceback": [
      "\u001b[0;31m---------------------------------------------------------------------------\u001b[0m",
      "\u001b[0;31mAttributeError\u001b[0m                            Traceback (most recent call last)",
      "Cell \u001b[0;32mIn[13], line 40\u001b[0m\n\u001b[1;32m     35\u001b[0m model\u001b[38;5;241m.\u001b[39mcompile(optimizer\u001b[38;5;241m=\u001b[39m\u001b[38;5;124m'\u001b[39m\u001b[38;5;124madam\u001b[39m\u001b[38;5;124m'\u001b[39m,\n\u001b[1;32m     36\u001b[0m               loss\u001b[38;5;241m=\u001b[39mtf\u001b[38;5;241m.\u001b[39mkeras\u001b[38;5;241m.\u001b[39mlosses\u001b[38;5;241m.\u001b[39mSparseCategoricalCrossentropy(from_logits\u001b[38;5;241m=\u001b[39m\u001b[38;5;28;01mTrue\u001b[39;00m),\n\u001b[1;32m     37\u001b[0m               metrics\u001b[38;5;241m=\u001b[39m[\u001b[38;5;124m'\u001b[39m\u001b[38;5;124maccuracy\u001b[39m\u001b[38;5;124m'\u001b[39m])\n\u001b[1;32m     39\u001b[0m \u001b[38;5;66;03m# Fit the model using the data generator\u001b[39;00m\n\u001b[0;32m---> 40\u001b[0m history \u001b[38;5;241m=\u001b[39m model\u001b[38;5;241m.\u001b[39mfit(datagen\u001b[38;5;241m.\u001b[39mflow(x_train, y_train, batch_size\u001b[38;5;241m=\u001b[39m\u001b[38;5;241m16\u001b[39m),\n\u001b[1;32m     41\u001b[0m                     epochs\u001b[38;5;241m=\u001b[39m\u001b[38;5;241m10\u001b[39m, \n\u001b[1;32m     42\u001b[0m                     validation_data\u001b[38;5;241m=\u001b[39m(x_test, y_test),\n\u001b[1;32m     43\u001b[0m                     steps_per_epoch\u001b[38;5;241m=\u001b[39m\u001b[38;5;28mlen\u001b[39m(x_train) \u001b[38;5;241m/\u001b[39m\u001b[38;5;241m/\u001b[39m \u001b[38;5;241m16\u001b[39m)\n",
      "File \u001b[0;32m/opt/anaconda3/lib/python3.11/site-packages/keras/utils/traceback_utils.py:70\u001b[0m, in \u001b[0;36mfilter_traceback.<locals>.error_handler\u001b[0;34m(*args, **kwargs)\u001b[0m\n\u001b[1;32m     67\u001b[0m     filtered_tb \u001b[38;5;241m=\u001b[39m _process_traceback_frames(e\u001b[38;5;241m.\u001b[39m__traceback__)\n\u001b[1;32m     68\u001b[0m     \u001b[38;5;66;03m# To get the full stack trace, call:\u001b[39;00m\n\u001b[1;32m     69\u001b[0m     \u001b[38;5;66;03m# `tf.debugging.disable_traceback_filtering()`\u001b[39;00m\n\u001b[0;32m---> 70\u001b[0m     \u001b[38;5;28;01mraise\u001b[39;00m e\u001b[38;5;241m.\u001b[39mwith_traceback(filtered_tb) \u001b[38;5;28;01mfrom\u001b[39;00m \u001b[38;5;28;01mNone\u001b[39;00m\n\u001b[1;32m     71\u001b[0m \u001b[38;5;28;01mfinally\u001b[39;00m:\n\u001b[1;32m     72\u001b[0m     \u001b[38;5;28;01mdel\u001b[39;00m filtered_tb\n",
      "Cell \u001b[0;32mIn[12], line 19\u001b[0m, in \u001b[0;36mapply_gaussian_blur\u001b[0;34m(image)\u001b[0m\n\u001b[1;32m     17\u001b[0m sigma \u001b[38;5;241m=\u001b[39m \u001b[38;5;241m1.0\u001b[39m\n\u001b[1;32m     18\u001b[0m channels \u001b[38;5;241m=\u001b[39m image\u001b[38;5;241m.\u001b[39mshape[\u001b[38;5;241m-\u001b[39m\u001b[38;5;241m1\u001b[39m]\n\u001b[0;32m---> 19\u001b[0m kernel \u001b[38;5;241m=\u001b[39m gaussian_kernel(kernel_size, \u001b[38;5;241m0.0\u001b[39m, sigma)\n\u001b[1;32m     20\u001b[0m kernel \u001b[38;5;241m=\u001b[39m kernel[:, :, tf\u001b[38;5;241m.\u001b[39mnewaxis, tf\u001b[38;5;241m.\u001b[39mnewaxis]\n\u001b[1;32m     21\u001b[0m kernel \u001b[38;5;241m=\u001b[39m tf\u001b[38;5;241m.\u001b[39mtile(kernel, [\u001b[38;5;241m1\u001b[39m, \u001b[38;5;241m1\u001b[39m, channels, \u001b[38;5;241m1\u001b[39m])\n",
      "Cell \u001b[0;32mIn[12], line 7\u001b[0m, in \u001b[0;36mgaussian_kernel\u001b[0;34m(size, mean, std)\u001b[0m\n\u001b[1;32m      5\u001b[0m \u001b[38;5;28;01mdef\u001b[39;00m \u001b[38;5;21mgaussian_kernel\u001b[39m(size: \u001b[38;5;28mint\u001b[39m, mean: \u001b[38;5;28mfloat\u001b[39m, std: \u001b[38;5;28mfloat\u001b[39m):\n\u001b[1;32m      6\u001b[0m \u001b[38;5;250m    \u001b[39m\u001b[38;5;124;03m\"\"\"Creates a Gaussian kernel for convolution.\"\"\"\u001b[39;00m\n\u001b[0;32m----> 7\u001b[0m     d \u001b[38;5;241m=\u001b[39m tf\u001b[38;5;241m.\u001b[39mdistributions\u001b[38;5;241m.\u001b[39mNormal(mean, std)\n\u001b[1;32m      8\u001b[0m     vals \u001b[38;5;241m=\u001b[39m d\u001b[38;5;241m.\u001b[39mprob(tf\u001b[38;5;241m.\u001b[39mrange(start\u001b[38;5;241m=\u001b[39m\u001b[38;5;241m-\u001b[39msize, limit\u001b[38;5;241m=\u001b[39msize\u001b[38;5;241m+\u001b[39m\u001b[38;5;241m1\u001b[39m, dtype\u001b[38;5;241m=\u001b[39mtf\u001b[38;5;241m.\u001b[39mfloat32))\n\u001b[1;32m      9\u001b[0m     gauss_kernel \u001b[38;5;241m=\u001b[39m tf\u001b[38;5;241m.\u001b[39meinsum(\u001b[38;5;124m'\u001b[39m\u001b[38;5;124mi,j->ij\u001b[39m\u001b[38;5;124m'\u001b[39m,\n\u001b[1;32m     10\u001b[0m                              vals,\n\u001b[1;32m     11\u001b[0m                              vals)\n",
      "\u001b[0;31mAttributeError\u001b[0m: module 'tensorflow' has no attribute 'distributions'"
     ]
    }
   ],
   "source": [
    "\n",
    "# Load MNIST dataset\n",
    "mnist = tf.keras.datasets.mnist\n",
    "(x_train, y_train), (x_test, y_test) = mnist.load_data()\n",
    "\n",
    "# Normalize the data\n",
    "x_train, x_test = x_train / 255.0, x_test / 255.0\n",
    "\n",
    "# Adding a channel dimension\n",
    "x_train = x_train[..., tf.newaxis]\n",
    "x_test = x_test[..., tf.newaxis]\n",
    "\n",
    "# Data augmentation\n",
    "datagen = tf.keras.preprocessing.image.ImageDataGenerator(\n",
    "    rotation_range=10,  # Rotate images up to 10 degrees\n",
    "    width_shift_range=0.1,  # Shift images horizontally\n",
    "    height_shift_range=0.1,  # Shift images vertically\n",
    "    zoom_range=0.1,  # Zoom images by 10%\n",
    "    preprocessing_function=apply_gaussian_blur  # Apply Gaussian blur to each image\n",
    ")\n",
    "\n",
    "# Define the CNN model\n",
    "model = tf.keras.models.Sequential([\n",
    "    tf.keras.layers.GaussianNoise(0.1, input_shape=(28, 28, 1)),  # Add Gaussian noise layer\n",
    "    tf.keras.layers.Conv2D(32, (3, 3), activation='relu', input_shape=(28, 28, 1)),\n",
    "    tf.keras.layers.Dropout(0.1),\n",
    "    tf.keras.layers.MaxPooling2D((2, 2)),\n",
    "    tf.keras.layers.Conv2D(64, (3, 3), activation='relu'),\n",
    "    tf.keras.layers.Dropout(0.1),\n",
    "    tf.keras.layers.Flatten(),\n",
    "    tf.keras.layers.Dense(64, activation='relu'),\n",
    "    tf.keras.layers.Dense(10)\n",
    "])\n",
    "\n",
    "# Compile the model\n",
    "model.compile(optimizer='adam',\n",
    "              loss=tf.keras.losses.SparseCategoricalCrossentropy(from_logits=True),\n",
    "              metrics=['accuracy'])\n",
    "\n",
    "# Fit the model using the data generator\n",
    "history = model.fit(datagen.flow(x_train, y_train, batch_size=16),\n",
    "                    epochs=10, \n",
    "                    validation_data=(x_test, y_test),\n",
    "                    steps_per_epoch=len(x_train) // 16)\n"
   ]
  },
  {
   "cell_type": "code",
   "execution_count": null,
   "metadata": {},
   "outputs": [
    {
     "name": "stdout",
     "output_type": "stream",
     "text": [
      "Epoch 1/10\n",
      "3750/3750 [==============================] - 21s 5ms/step - loss: 0.1137 - accuracy: 0.9652 - val_loss: 0.0467 - val_accuracy: 0.9841\n",
      "Epoch 2/10\n",
      "3750/3750 [==============================] - 20s 5ms/step - loss: 0.0411 - accuracy: 0.9875 - val_loss: 0.0357 - val_accuracy: 0.9891\n",
      "Epoch 3/10\n",
      "3750/3750 [==============================] - 21s 6ms/step - loss: 0.0274 - accuracy: 0.9911 - val_loss: 0.0398 - val_accuracy: 0.9874\n",
      "Epoch 4/10\n",
      "3750/3750 [==============================] - 20s 5ms/step - loss: 0.0194 - accuracy: 0.9937 - val_loss: 0.0304 - val_accuracy: 0.9897\n",
      "Epoch 5/10\n",
      "3750/3750 [==============================] - 20s 5ms/step - loss: 0.0145 - accuracy: 0.9952 - val_loss: 0.0393 - val_accuracy: 0.9880\n",
      "Epoch 6/10\n",
      "3750/3750 [==============================] - 20s 5ms/step - loss: 0.0115 - accuracy: 0.9961 - val_loss: 0.0367 - val_accuracy: 0.9887\n",
      "Epoch 7/10\n",
      "3750/3750 [==============================] - 20s 5ms/step - loss: 0.0099 - accuracy: 0.9965 - val_loss: 0.0376 - val_accuracy: 0.9886\n",
      "Epoch 8/10\n",
      "3750/3750 [==============================] - 20s 5ms/step - loss: 0.0083 - accuracy: 0.9971 - val_loss: 0.0417 - val_accuracy: 0.9907\n",
      "Epoch 9/10\n",
      "3750/3750 [==============================] - 22s 6ms/step - loss: 0.0077 - accuracy: 0.9977 - val_loss: 0.0485 - val_accuracy: 0.9883\n",
      "Epoch 10/10\n",
      "3750/3750 [==============================] - 22s 6ms/step - loss: 0.0073 - accuracy: 0.9976 - val_loss: 0.0452 - val_accuracy: 0.9907\n"
     ]
    },
    {
     "data": {
      "text/plain": [
       "<matplotlib.legend.Legend at 0x140ca4190>"
      ]
     },
     "execution_count": 33,
     "metadata": {},
     "output_type": "execute_result"
    },
    {
     "data": {
      "image/png": "[encoded data removed]",
      "text/plain": [
       "<Figure size 640x480 with 1 Axes>"
      ]
     },
     "metadata": {},
     "output_type": "display_data"
    }
   ],
   "source": [
    "\n",
    "# noise_factor = 0.5\n",
    "# x_train_noisy = x_train + noise_factor * tf.random.normal(shape=x_train.shape) \n",
    "# x_train_noisy = tf.clip_by_value(x_train_noisy, 0., 1.)\n",
    "\n",
    "# data_augmentation = tf.keras.Sequential([\n",
    "#     tf.keras.layers.experimental.preprocessing.RandomRotation(0.2),\n",
    "#     tf.keras.layers.experimental.preprocessing.RandomZoom(0.1),\n",
    "# ])\n",
    "\n",
    "import matplotlib.pyplot as plt\n",
    "\n",
    "plt.plot(history.history['accuracy'], label='accuracy')\n",
    "plt.plot(history.history['val_accuracy'], label='validation accuracy')\n",
    "plt.xlabel('Epoch')\n",
    "plt.ylabel('Accuracy')\n",
    "plt.ylim([0.9, 1])\n",
    "plt.legend(loc='lower right')"
   ]
  },
  {
   "cell_type": "code",
   "execution_count": null,
   "metadata": {},
   "outputs": [
    {
     "data": {
      "image/png": "[encoded data removed]",
      "text/plain": [
       "<Figure size 640x480 with 1 Axes>"
      ]
     },
     "metadata": {},
     "output_type": "display_data"
    },
    {
     "name": "stdout",
     "output_type": "stream",
     "text": [
      "1/1 [==============================] - 0s 30ms/step\n",
      "2\n"
     ]
    }
   ],
   "source": [
    "import numpy as np\n",
    "random_image = x_test[1]\n",
    "fig, axarr = plt.subplots(1, 1)\n",
    "axarr.imshow(random_image.reshape(28, 28), cmap=\"gray\")\n",
    "axarr.axis('off')\n",
    "plt.show()\n",
    "\n",
    "prediction = model.predict(tf.expand_dims(random_image, 0))\n",
    "predicted_class = np.argmax(prediction)\n",
    "print(predicted_class)\n"
   ]
  }
 ],
 "metadata": {
  "kernelspec": {
   "display_name": "base",
   "language": "python",
   "name": "python3"
  },
  "language_info": {
   "codemirror_mode": {
    "name": "ipython",
    "version": 3
   },
   "file_extension": ".py",
   "mimetype": "text/x-python",
   "name": "python",
   "nbconvert_exporter": "python",
   "pygments_lexer": "ipython3",
   "version": "3.11.0"
  },
  "orig_nbformat": 4
 },
 "nbformat": 4,
 "nbformat_minor": 2
}
